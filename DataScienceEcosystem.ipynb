{
 "cells": [
  {
   "cell_type": "markdown",
   "id": "c959b10e-c971-43ab-8cf1-405c830885f1",
   "metadata": {},
   "source": [
    "# Data Science Tools and Ecosystem"
   ]
  },
  {
   "cell_type": "markdown",
   "id": "4d8d9a56-256f-4ec0-9b47-4713c70862a2",
   "metadata": {},
   "source": [
    "In this notebook, Data Science Tools and Ecosystem are summarized."
   ]
  },
  {
   "cell_type": "markdown",
   "id": "d0c22ba6-991f-4bda-9a64-9214bf7e3ef0",
   "metadata": {},
   "source": [
    "Some of the popular languages that Data Scientists use are:\n",
    "1. Python\n",
    "2. R\n",
    "3. SQL"
   ]
  },
  {
   "cell_type": "markdown",
   "id": "87617758-047d-4d4d-a90f-9d88663db047",
   "metadata": {},
   "source": [
    "Some of the commonly used libraries used by Data Scientists include:\n",
    "1. Numpy\n",
    "2. Pandas\n",
    "3. TensorFlow"
   ]
  },
  {
   "cell_type": "markdown",
   "id": "e83009ad-2ddb-46ff-88b3-ea0f2f2cac7b",
   "metadata": {},
   "source": [
    "|Data Science Tools|\n",
    "| --- |\n",
    "| Anaconda |\n",
    "| Jupyter Notebook |\n",
    "| Apache Spark |\n",
    "\n",
    " \n"
   ]
  },
  {
   "cell_type": "markdown",
   "id": "c56c3b47-fec7-4ea7-bbb0-3e88e6a2793a",
   "metadata": {},
   "source": [
    "### Below are a few examples of evaluating arithmetic expressions in Python"
   ]
  },
  {
   "cell_type": "markdown",
   "id": "98bdb2aa-862c-4341-aed9-6dd232d37c6a",
   "metadata": {},
   "source": [
    "This a simple arithmetic expression to mutiply then add integers"
   ]
  },
  {
   "cell_type": "code",
   "execution_count": 2,
   "id": "1dcdf7ad-4aa5-428d-bae0-5f111bccf308",
   "metadata": {},
   "outputs": [
    {
     "data": {
      "text/plain": [
       "17"
      ]
     },
     "execution_count": 2,
     "metadata": {},
     "output_type": "execute_result"
    }
   ],
   "source": [
    "(3*4)+5"
   ]
  },
  {
   "cell_type": "markdown",
   "id": "73c65548-86e5-43f8-a61b-e99721ea07f7",
   "metadata": {},
   "source": [
    "This will convert 200 minutes to hours by diving by 60"
   ]
  },
  {
   "cell_type": "code",
   "execution_count": 3,
   "id": "94d5d997-208a-4ae8-93ce-d97fcb4fd35a",
   "metadata": {},
   "outputs": [
    {
     "name": "stdout",
     "output_type": "stream",
     "text": [
      "3.3333333333333335\n"
     ]
    }
   ],
   "source": [
    "minutes = 200\n",
    "hour = minutes/60\n",
    "print(hour)"
   ]
  },
  {
   "cell_type": "markdown",
   "id": "1bf4a645-eee7-48c0-83a0-0b8e1a672132",
   "metadata": {},
   "source": [
    "### __Objectives:__\n",
    "\n",
    "- List of the popular languages that Data Scientists use\n",
    "- List of some of the commonly used libraries used by Data Scientists\n",
    "- Some simple arithmetic expression to mutiply then add integers using Jupyter Notebook\n"
   ]
  },
  {
   "cell_type": "markdown",
   "id": "55e1531d-0deb-4efc-9d8d-631166dddde8",
   "metadata": {},
   "source": [
    "## Author\n",
    "Burak Senay"
   ]
  },
  {
   "cell_type": "code",
   "execution_count": null,
   "id": "aaf7898b-96ee-4695-ba16-9137016cc651",
   "metadata": {},
   "outputs": [],
   "source": []
  }
 ],
 "metadata": {
  "kernelspec": {
   "display_name": "Python 3 (ipykernel)",
   "language": "python",
   "name": "python3"
  },
  "language_info": {
   "codemirror_mode": {
    "name": "ipython",
    "version": 3
   },
   "file_extension": ".py",
   "mimetype": "text/x-python",
   "name": "python",
   "nbconvert_exporter": "python",
   "pygments_lexer": "ipython3",
   "version": "3.11.7"
  }
 },
 "nbformat": 4,
 "nbformat_minor": 5
}
